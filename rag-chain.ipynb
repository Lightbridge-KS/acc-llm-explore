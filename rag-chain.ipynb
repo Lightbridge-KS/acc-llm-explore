{
 "cells": [
  {
   "cell_type": "markdown",
   "metadata": {},
   "source": [
    "# ACC RAG Chain LLM"
   ]
  },
  {
   "cell_type": "code",
   "execution_count": 1,
   "metadata": {},
   "outputs": [],
   "source": [
    "import os\n",
    "from langchain_core.runnables import RunnablePassthrough\n",
    "from langchain_openai import ChatOpenAI, OpenAIEmbeddings\n",
    "from langchain_text_splitters import MarkdownHeaderTextSplitter\n",
    "from langchain_community.document_loaders import DirectoryLoader, TextLoader\n",
    "\n",
    "from src.fs import read_text_dir"
   ]
  },
  {
   "cell_type": "markdown",
   "metadata": {},
   "source": [
    "## Read ACR Conditions"
   ]
  },
  {
   "cell_type": "code",
   "execution_count": 2,
   "metadata": {},
   "outputs": [],
   "source": [
    "# Read all custom ACR appropriateness criteria documents\n",
    "docs_raw = read_text_dir(\"data/conditions\")\n",
    "docs_text = \"\\n\\n---\\n\\n\".join(docs_raw.values())"
   ]
  },
  {
   "cell_type": "markdown",
   "metadata": {},
   "source": [
    "## Indexing"
   ]
  },
  {
   "cell_type": "markdown",
   "metadata": {},
   "source": [
    "### Split Documents\n",
    "\n",
    "Split by markdown headings"
   ]
  },
  {
   "cell_type": "code",
   "execution_count": 30,
   "metadata": {},
   "outputs": [],
   "source": [
    "# Determine levels of headings to be splitted\n",
    "headers_to_split_on = [\n",
    "    (\"#\", \"Header 1\"),\n",
    "    (\"##\", \"Header 2\"),\n",
    "    (\"###\", \"Header 3\"),\n",
    "]\n",
    "markdown_splitter = MarkdownHeaderTextSplitter(headers_to_split_on, \n",
    "                                               strip_headers = False)\n",
    "docs_splited = markdown_splitter.split_text(docs_text)"
   ]
  },
  {
   "cell_type": "code",
   "execution_count": 32,
   "metadata": {},
   "outputs": [
    {
     "data": {
      "text/plain": [
       "[Document(metadata={'Header 1': 'Abnormal Liver Function Tests'}, page_content='# Abnormal Liver Function Tests  \\nAmerican College of Radiology: ACR Appropriateness Criteria®'),\n",
       " Document(metadata={'Header 1': 'Abnormal Liver Function Tests', 'Header 3': 'Variant 1: **Abnormal liver function tests. Hepatocellular predominance with mild aminotransferase increase. Initial imaging.**'}, page_content='### Variant 1: **Abnormal liver function tests. Hepatocellular predominance with mild aminotransferase increase. Initial imaging.**  \\n| Procedure                                  | Appropriateness Category       | Relative Radiation Level |\\n|--------------------------------------------|--------------------------------|--------------------------|\\n| US abdomen                                 | Usually Appropriate            | O                        |\\n| US duplex Doppler abdomen                  | Usually Appropriate            | O                        |\\n| US shear wave elastography abdomen         | May Be Appropriate             | O                        |\\n| MR elastography abdomen                    | May Be Appropriate             | O                        |\\n| MRI abdomen without and with IV contrast with MRCP | May Be Appropriate         | O                        |\\n| MRI abdomen without IV contrast with MRCP  | May Be Appropriate             | O                        |\\n| CT abdomen and pelvis without IV contrast  | May Be Appropriate             | ⚫⚫⚫                    |\\n| US abdomen with IV contrast                | Usually Not Appropriate        | O                        |\\n| CT abdomen and pelvis with IV contrast     | Usually Not Appropriate        | ⚫⚫⚫                    |\\n| CT abdomen and pelvis without and with IV contrast | Usually Not Appropriate | ⚫⚫⚫⚫                  |  \\n---')]"
      ]
     },
     "execution_count": 32,
     "metadata": {},
     "output_type": "execute_result"
    }
   ],
   "source": [
    "docs_splited[0:2]"
   ]
  },
  {
   "cell_type": "markdown",
   "metadata": {},
   "source": [
    "### Create Vector Store"
   ]
  },
  {
   "cell_type": "code",
   "execution_count": 33,
   "metadata": {},
   "outputs": [],
   "source": [
    "from langchain_community.vectorstores import FAISS\n",
    "\n",
    "db = FAISS.from_documents(docs_splited, OpenAIEmbeddings())"
   ]
  },
  {
   "cell_type": "markdown",
   "metadata": {},
   "source": [
    "Test Similarity search"
   ]
  },
  {
   "cell_type": "code",
   "execution_count": 35,
   "metadata": {},
   "outputs": [
    {
     "name": "stdout",
     "output_type": "stream",
     "text": [
      "[Document(metadata={'Header 1': 'Abnormal Liver Function Tests', 'Header 3': 'Variant 3: **Abnormal liver function tests. Cholestatic predominance. Elevated alkaline phosphatase with or without elevated gamma-glutamyl transpeptidase. Initial imaging.**'}, page_content='### Variant 3: **Abnormal liver function tests. Cholestatic predominance. Elevated alkaline phosphatase with or without elevated gamma-glutamyl transpeptidase. Initial imaging.**  \\n| Procedure                                  | Appropriateness Category       | Relative Radiation Level |\\n|--------------------------------------------|--------------------------------|--------------------------|\\n| US abdomen                                 | Usually Appropriate            | O                        |\\n| MRI abdomen without and with IV contrast with MRCP | Usually Appropriate         | O                        |\\n| CT abdomen and pelvis with IV contrast     | Usually Appropriate            | ⚫⚫⚫                    |\\n| US duplex Doppler abdomen                  | May Be Appropriate             | O                        |\\n| MRI abdomen without IV contrast with MRCP  | May Be Appropriate             | O                        |\\n| CT abdomen and pelvis without IV contrast  | May Be Appropriate             | ⚫⚫⚫                    |\\n| US abdomen with IV contrast                | Usually Not Appropriate        | O                        |\\n| US shear wave elastography abdomen         | Usually Not Appropriate        | O                        |\\n| MR elastography abdomen                    | Usually Not Appropriate        | O                        |\\n| CT abdomen and pelvis without and with IV contrast | Usually Not Appropriate | ⚫⚫⚫⚫                  |  \\n---'), Document(metadata={'Header 1': 'Abnormal Liver Function Tests', 'Header 3': 'Variant 1: **Abnormal liver function tests. Hepatocellular predominance with mild aminotransferase increase. Initial imaging.**'}, page_content='### Variant 1: **Abnormal liver function tests. Hepatocellular predominance with mild aminotransferase increase. Initial imaging.**  \\n| Procedure                                  | Appropriateness Category       | Relative Radiation Level |\\n|--------------------------------------------|--------------------------------|--------------------------|\\n| US abdomen                                 | Usually Appropriate            | O                        |\\n| US duplex Doppler abdomen                  | Usually Appropriate            | O                        |\\n| US shear wave elastography abdomen         | May Be Appropriate             | O                        |\\n| MR elastography abdomen                    | May Be Appropriate             | O                        |\\n| MRI abdomen without and with IV contrast with MRCP | May Be Appropriate         | O                        |\\n| MRI abdomen without IV contrast with MRCP  | May Be Appropriate             | O                        |\\n| CT abdomen and pelvis without IV contrast  | May Be Appropriate             | ⚫⚫⚫                    |\\n| US abdomen with IV contrast                | Usually Not Appropriate        | O                        |\\n| CT abdomen and pelvis with IV contrast     | Usually Not Appropriate        | ⚫⚫⚫                    |\\n| CT abdomen and pelvis without and with IV contrast | Usually Not Appropriate | ⚫⚫⚫⚫                  |  \\n---'), Document(metadata={'Header 1': 'Abnormal Liver Function Tests', 'Header 3': 'Variant 4: **Abnormal liver function tests. Hyperbilirubinemia. Acute or subacute cholestasis. Conjugated or unconjugated. Initial imaging.**'}, page_content='### Variant 4: **Abnormal liver function tests. Hyperbilirubinemia. Acute or subacute cholestasis. Conjugated or unconjugated. Initial imaging.**  \\n| Procedure                                  | Appropriateness Category       | Relative Radiation Level |\\n|--------------------------------------------|--------------------------------|--------------------------|\\n| US abdomen                                 | Usually Appropriate            | O                        |\\n| MRI abdomen without and with IV contrast with MRCP | Usually Appropriate         | O                        |\\n| MRI abdomen without IV contrast with MRCP  | Usually Appropriate             | O                        |\\n| CT abdomen and pelvis with IV contrast     | Usually Appropriate            | ⚫⚫⚫                    |\\n| CT abdomen and pelvis without IV contrast  | May Be Appropriate             | ⚫⚫⚫                    |\\n| US abdomen with IV contrast                | Usually Not Appropriate        | O                        |\\n| US duplex Doppler abdomen                  | Usually Not Appropriate        | O                        |\\n| US shear wave elastography abdomen         | Usually Not Appropriate        | O                        |\\n| MR elastography abdomen                    | Usually Not Appropriate        | O                        |\\n| CT abdomen and pelvis without and with IV contrast | Usually Not Appropriate | ⚫⚫⚫⚫                  |  \\n---')]\n"
     ]
    }
   ],
   "source": [
    "query = \"Abnormal LFT\"\n",
    "docs = db.similarity_search(query, k = 3)\n",
    "print(docs)"
   ]
  },
  {
   "cell_type": "markdown",
   "metadata": {},
   "source": [
    "### Create Retriever"
   ]
  },
  {
   "cell_type": "code",
   "execution_count": 43,
   "metadata": {},
   "outputs": [],
   "source": [
    "retriever = db.as_retriever(\n",
    "    search_type=\"similarity\",\n",
    "    search_kwargs={\"k\": 4},\n",
    ")"
   ]
  },
  {
   "cell_type": "markdown",
   "metadata": {},
   "source": [
    "## Prompt Template"
   ]
  },
  {
   "cell_type": "code",
   "execution_count": 44,
   "metadata": {},
   "outputs": [
    {
     "name": "stdout",
     "output_type": "stream",
     "text": [
      "System: You are an clinical decision support assistance for radiologist. \n",
      "Your task is to determine the imaging appropriateness from the input patient case, according to the provided context from ACR Appropriateness Criteria.\n",
      "\n",
      "Human: \n",
      "Case: \n",
      "\n",
      "Test Case\n",
      "\n",
      "Context: \n",
      "Use the provided context only to answer the question. If you don't know the answer, just say that you don't know.\n",
      "\n",
      "test context\n",
      "\n",
      "Questions: Is imaging typically appropriate for this case? If so, please specify the most suitable imaging modality and whether a contrast agent is required. Exclude 'May Be Appropriate' and 'Usually Not Appropriate' as potential responses.\n",
      "\n"
     ]
    }
   ],
   "source": [
    "from langchain_core.prompts import ChatPromptTemplate, MessagesPlaceholder\n",
    "from langchain_core.messages import HumanMessage\n",
    "\n",
    "system_prompt = \"\"\"You are an clinical decision support assistance for radiologist. \n",
    "Your task is to determine the imaging appropriateness from the input patient case, according to the provided context from ACR Appropriateness Criteria.\n",
    "\"\"\"\n",
    "\n",
    "human_prompt = \"\"\"\n",
    "Case: \n",
    "\n",
    "{case}\n",
    "\n",
    "Context: \n",
    "Use the provided context only to answer the question. If you don't know the answer, just say that you don't know.\n",
    "\n",
    "{context}\n",
    "\n",
    "Questions: Is imaging typically appropriate for this case? If so, please specify the most suitable imaging modality and whether a contrast agent is required. Exclude 'May Be Appropriate' and 'Usually Not Appropriate' as potential responses.\n",
    "\"\"\"\n",
    "\n",
    "prompt_template = ChatPromptTemplate([\n",
    "    (\"system\", system_prompt),\n",
    "    (\"human\", human_prompt)\n",
    "])\n",
    "\n",
    "# Test prompt template\n",
    "print(prompt_template.invoke({\"case\": \"Test Case\", \n",
    "                              \"context\": \"test context\"}).to_string())\n",
    "\n"
   ]
  },
  {
   "cell_type": "markdown",
   "metadata": {},
   "source": [
    "## Final Chain"
   ]
  },
  {
   "cell_type": "code",
   "execution_count": 45,
   "metadata": {},
   "outputs": [],
   "source": [
    "llm = ChatOpenAI(model=\"gpt-4o-mini\")\n",
    "rag_chain = {\"context\": retriever, \n",
    "             \"case\": RunnablePassthrough()} | prompt_template | llm"
   ]
  },
  {
   "cell_type": "markdown",
   "metadata": {},
   "source": [
    "## Execute 🚀"
   ]
  },
  {
   "cell_type": "markdown",
   "metadata": {},
   "source": [
    "### RLQ Abdominal Pain"
   ]
  },
  {
   "cell_type": "code",
   "execution_count": 46,
   "metadata": {},
   "outputs": [
    {
     "name": "stdout",
     "output_type": "stream",
     "text": [
      "Yes, imaging is typically appropriate for this case. The most suitable imaging modality is a CT abdomen and pelvis with IV contrast, which is categorized as \"Usually Appropriate.\"\n"
     ]
    }
   ],
   "source": [
    "case_1 = \"\"\"\n",
    "Patient age: 15 years old\n",
    "Sex: Female\n",
    "Chief Complaint: Right lower quadrant abdominal pain\n",
    "The patient presents with a 2-day history of progressively worsening right lower quadrant abdominal pain. \n",
    "She reports loss of appetite but denies nausea or vomiting. No fever or diarrhea. Her last menstrual period was 2 weeks ago. \n",
    "She denies any history of similar pain episodes and has no significant past medical history. \n",
    "\"\"\"\n",
    "\n",
    "response_1 = rag_chain.invoke(case_1)\n",
    "print(response_1.content)"
   ]
  },
  {
   "cell_type": "code",
   "execution_count": 47,
   "metadata": {},
   "outputs": [
    {
     "data": {
      "text/plain": [
       "[Document(metadata={'Header 1': 'Right Lower Quadrant Pain', 'Header 3': 'Variant 1: **Right lower quadrant pain. Initial imaging.**'}, page_content='### Variant 1: **Right lower quadrant pain. Initial imaging.**  \\n| Procedure                                  | Appropriateness Category       | Relative Radiation Level |\\n|--------------------------------------------|--------------------------------|--------------------------|\\n| CT abdomen and pelvis with IV contrast     | Usually Appropriate            | ⚫⚫⚫                    |\\n| US abdomen                                 | May Be Appropriate             | O                        |\\n| US pelvis                                  | May Be Appropriate             | O                        |\\n| MRI abdomen and pelvis without and with IV contrast | May Be Appropriate         | O                        |\\n| MRI abdomen and pelvis without IV contrast | May Be Appropriate             | O                        |\\n| CT abdomen and pelvis without IV contrast  | May Be Appropriate             | ⚫⚫⚫                    |\\n| Radiography abdomen                        | Usually Not Appropriate        | ⚫⚫                     |\\n| Fluoroscopy contrast enema                 | Usually Not Appropriate        | ⚫⚫⚫                    |\\n| CT abdomen and pelvis without and with IV contrast | Usually Not Appropriate      | ⚫⚫⚫⚫                  |\\n| WBC scan abdomen and pelvis                | Usually Not Appropriate        | ⚫⚫⚫⚫⚫                |  \\n---'),\n",
       " Document(metadata={'Header 1': 'Right Lower Quadrant Pain', 'Header 3': 'Variant 3: **Pregnant woman. Right lower quadrant pain, fever, leukocytosis. Suspected appendicitis. Initial imaging.**'}, page_content='### Variant 3: **Pregnant woman. Right lower quadrant pain, fever, leukocytosis. Suspected appendicitis. Initial imaging.**  \\n| Procedure                                  | Appropriateness Category       | Relative Radiation Level |\\n|--------------------------------------------|--------------------------------|--------------------------|\\n| US abdomen                                 | Usually Appropriate            | O                        |\\n| MRI abdomen and pelvis without IV contrast | Usually Appropriate            | O                        |\\n| US pelvis                                  | May Be Appropriate             | O                        |\\n| CT abdomen and pelvis with IV contrast     | May Be Appropriate             | ⚫⚫⚫⚫                  |\\n| CT abdomen and pelvis without IV contrast  | May Be Appropriate             | ⚫⚫⚫                    |\\n| CT abdomen and pelvis without and with IV contrast | Usually Not Appropriate      | ⚫⚫⚫⚫                  |\\n| MRI abdomen and pelvis without and with IV contrast | Usually Not Appropriate      | O                        |\\n| WBC scan abdomen and pelvis                | Usually Not Appropriate        | ⚫⚫⚫⚫⚫                |\\n| Radiography abdomen                        | Usually Not Appropriate        | ⚫⚫                     |\\n| Fluoroscopy contrast enema                 | Usually Not Appropriate        | ⚫⚫⚫                    |'),\n",
       " Document(metadata={'Header 1': 'Right Lower Quadrant Pain', 'Header 3': 'Variant 2: **Right lower quadrant pain, fever, leukocytosis. Suspected appendicitis. Initial imaging.**'}, page_content='### Variant 2: **Right lower quadrant pain, fever, leukocytosis. Suspected appendicitis. Initial imaging.**  \\n| Procedure                                  | Appropriateness Category       | Relative Radiation Level |\\n|--------------------------------------------|--------------------------------|--------------------------|\\n| CT abdomen and pelvis with IV contrast     | Usually Appropriate            | ⚫⚫⚫                    |\\n| CT abdomen and pelvis without IV contrast  | May Be Appropriate             | ⚫⚫⚫                    |\\n| US abdomen                                 | May Be Appropriate             | O                        |\\n| US pelvis                                  | May Be Appropriate             | O                        |\\n| MRI abdomen and pelvis without and with IV contrast | May Be Appropriate         | O                        |\\n| MRI abdomen and pelvis without IV contrast | May Be Appropriate             | O                        |\\n| CT abdomen and pelvis without and with IV contrast | Usually Not Appropriate      | ⚫⚫⚫⚫                  |\\n| Radiography abdomen                        | Usually Not Appropriate        | ⚫⚫                     |\\n| WBC scan abdomen and pelvis                | Usually Not Appropriate        | ⚫⚫⚫⚫⚫                |\\n| Fluoroscopy contrast enema                 | Usually Not Appropriate        | ⚫⚫⚫                    |'),\n",
       " Document(metadata={'Header 1': 'Right Lower Quadrant Pain'}, page_content='# Right Lower Quadrant Pain  \\nAmerican College of Radiology: ACR Appropriateness Criteria®')]"
      ]
     },
     "execution_count": 47,
     "metadata": {},
     "output_type": "execute_result"
    }
   ],
   "source": [
    "retriever.invoke(case_1)"
   ]
  },
  {
   "cell_type": "markdown",
   "metadata": {},
   "source": [
    "### Mesenteric Ischemia"
   ]
  },
  {
   "cell_type": "code",
   "execution_count": 49,
   "metadata": {},
   "outputs": [
    {
     "name": "stdout",
     "output_type": "stream",
     "text": [
      "In this case, imaging is typically appropriate. The most suitable imaging modality is a CT abdomen and pelvis with IV contrast, which is categorized as \"Usually Appropriate.\"\n"
     ]
    }
   ],
   "source": [
    "case_2 = \"\"\"\n",
    "Patient age: 72 years old\n",
    "Sex: Female\n",
    "Chief Complaint: Severe abdominal pain and vomiting\n",
    "\n",
    "The patient presents with sudden onset of severe, diffuse abdominal pain that started 6 hours ago, accompanied by multiple episodes of vomiting. She has a history of atrial fibrillation on warfarin, hypertension, and peripheral vascular disease. She reports the pain is out of proportion to physical examination findings.\n",
    "\"\"\"\n",
    "\n",
    "response_2 = rag_chain.invoke(case_2)\n",
    "print(response_2.content)"
   ]
  },
  {
   "cell_type": "code",
   "execution_count": 48,
   "metadata": {},
   "outputs": [
    {
     "data": {
      "text/plain": [
       "[Document(metadata={'Header 1': 'Right Lower Quadrant Pain', 'Header 3': 'Variant 1: **Right lower quadrant pain. Initial imaging.**'}, page_content='### Variant 1: **Right lower quadrant pain. Initial imaging.**  \\n| Procedure                                  | Appropriateness Category       | Relative Radiation Level |\\n|--------------------------------------------|--------------------------------|--------------------------|\\n| CT abdomen and pelvis with IV contrast     | Usually Appropriate            | ⚫⚫⚫                    |\\n| US abdomen                                 | May Be Appropriate             | O                        |\\n| US pelvis                                  | May Be Appropriate             | O                        |\\n| MRI abdomen and pelvis without and with IV contrast | May Be Appropriate         | O                        |\\n| MRI abdomen and pelvis without IV contrast | May Be Appropriate             | O                        |\\n| CT abdomen and pelvis without IV contrast  | May Be Appropriate             | ⚫⚫⚫                    |\\n| Radiography abdomen                        | Usually Not Appropriate        | ⚫⚫                     |\\n| Fluoroscopy contrast enema                 | Usually Not Appropriate        | ⚫⚫⚫                    |\\n| CT abdomen and pelvis without and with IV contrast | Usually Not Appropriate      | ⚫⚫⚫⚫                  |\\n| WBC scan abdomen and pelvis                | Usually Not Appropriate        | ⚫⚫⚫⚫⚫                |  \\n---'),\n",
       " Document(metadata={'Header 1': 'Right Lower Quadrant Pain', 'Header 3': 'Variant 3: **Pregnant woman. Right lower quadrant pain, fever, leukocytosis. Suspected appendicitis. Initial imaging.**'}, page_content='### Variant 3: **Pregnant woman. Right lower quadrant pain, fever, leukocytosis. Suspected appendicitis. Initial imaging.**  \\n| Procedure                                  | Appropriateness Category       | Relative Radiation Level |\\n|--------------------------------------------|--------------------------------|--------------------------|\\n| US abdomen                                 | Usually Appropriate            | O                        |\\n| MRI abdomen and pelvis without IV contrast | Usually Appropriate            | O                        |\\n| US pelvis                                  | May Be Appropriate             | O                        |\\n| CT abdomen and pelvis with IV contrast     | May Be Appropriate             | ⚫⚫⚫⚫                  |\\n| CT abdomen and pelvis without IV contrast  | May Be Appropriate             | ⚫⚫⚫                    |\\n| CT abdomen and pelvis without and with IV contrast | Usually Not Appropriate      | ⚫⚫⚫⚫                  |\\n| MRI abdomen and pelvis without and with IV contrast | Usually Not Appropriate      | O                        |\\n| WBC scan abdomen and pelvis                | Usually Not Appropriate        | ⚫⚫⚫⚫⚫                |\\n| Radiography abdomen                        | Usually Not Appropriate        | ⚫⚫                     |\\n| Fluoroscopy contrast enema                 | Usually Not Appropriate        | ⚫⚫⚫                    |'),\n",
       " Document(metadata={'Header 1': 'Imaging of Mesenteric Ischemia', 'Header 3': 'Variant 2: **Suspected chronic mesenteric ischemia. Initial imaging.**'}, page_content='### Variant 2: **Suspected chronic mesenteric ischemia. Initial imaging.**  \\n| Procedure                                  | Appropriateness Category       | Relative Radiation Level |\\n|--------------------------------------------|--------------------------------|--------------------------|\\n| CTA abdomen and pelvis with IV contrast    | Usually Appropriate            | ⚫⚫⚫⚫                  |\\n| MRA abdomen and pelvis without and with IV contrast | Usually Appropriate         | O                        |\\n| Arteriography abdomen                      | May Be Appropriate (Disagreement) | ⚫⚫⚫               |\\n| CT abdomen and pelvis with IV contrast     | May Be Appropriate             | ⚫⚫⚫                    |\\n| MRA abdomen and pelvis without IV contrast | May Be Appropriate             | O                        |\\n| US duplex Doppler abdomen                  | May Be Appropriate             | O                        |\\n| CT abdomen and pelvis without IV contrast  | Usually Not Appropriate        | ⚫⚫⚫                    |\\n| CT abdomen and pelvis without and with IV contrast | Usually Not Appropriate      | ⚫⚫⚫⚫                  |\\n| Radiography abdomen                        | Usually Not Appropriate        | ⚫⚫                     |  \\n---'),\n",
       " Document(metadata={'Header 1': 'Right Lower Quadrant Pain', 'Header 3': 'Variant 2: **Right lower quadrant pain, fever, leukocytosis. Suspected appendicitis. Initial imaging.**'}, page_content='### Variant 2: **Right lower quadrant pain, fever, leukocytosis. Suspected appendicitis. Initial imaging.**  \\n| Procedure                                  | Appropriateness Category       | Relative Radiation Level |\\n|--------------------------------------------|--------------------------------|--------------------------|\\n| CT abdomen and pelvis with IV contrast     | Usually Appropriate            | ⚫⚫⚫                    |\\n| CT abdomen and pelvis without IV contrast  | May Be Appropriate             | ⚫⚫⚫                    |\\n| US abdomen                                 | May Be Appropriate             | O                        |\\n| US pelvis                                  | May Be Appropriate             | O                        |\\n| MRI abdomen and pelvis without and with IV contrast | May Be Appropriate         | O                        |\\n| MRI abdomen and pelvis without IV contrast | May Be Appropriate             | O                        |\\n| CT abdomen and pelvis without and with IV contrast | Usually Not Appropriate      | ⚫⚫⚫⚫                  |\\n| Radiography abdomen                        | Usually Not Appropriate        | ⚫⚫                     |\\n| WBC scan abdomen and pelvis                | Usually Not Appropriate        | ⚫⚫⚫⚫⚫                |\\n| Fluoroscopy contrast enema                 | Usually Not Appropriate        | ⚫⚫⚫                    |')]"
      ]
     },
     "execution_count": 48,
     "metadata": {},
     "output_type": "execute_result"
    }
   ],
   "source": [
    "retriever.invoke(case_2) "
   ]
  },
  {
   "cell_type": "markdown",
   "metadata": {},
   "source": [
    "### No Avilable Context"
   ]
  },
  {
   "cell_type": "code",
   "execution_count": 50,
   "metadata": {},
   "outputs": [
    {
     "name": "stdout",
     "output_type": "stream",
     "text": [
      "I don't know.\n"
     ]
    }
   ],
   "source": [
    "case_3 = \"\"\"\n",
    "Patient age: 30 years old \n",
    "Sex: Male. \n",
    "Chief complaint: Indeterminate palpable breast mass on the left side. \n",
    "\n",
    "A 2 cm hard mass is palpated in the left breast without nipple discharge or retraction, and no axillary lymphadenopathy. Mammography was indeterminant. There is no history of breast cancer in the family.\n",
    "\"\"\"\n",
    "\n",
    "response_3 = rag_chain.invoke(case_3)\n",
    "print(response_3.content)"
   ]
  }
 ],
 "metadata": {
  "kernelspec": {
   "display_name": "Python 3",
   "language": "python",
   "name": "python3"
  },
  "language_info": {
   "codemirror_mode": {
    "name": "ipython",
    "version": 3
   },
   "file_extension": ".py",
   "mimetype": "text/x-python",
   "name": "python",
   "nbconvert_exporter": "python",
   "pygments_lexer": "ipython3",
   "version": "3.12.8"
  }
 },
 "nbformat": 4,
 "nbformat_minor": 2
}
