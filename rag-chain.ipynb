{
 "cells": [
  {
   "cell_type": "markdown",
   "metadata": {},
   "source": [
    "# ACC RAG Chain LLM"
   ]
  },
  {
   "cell_type": "code",
   "execution_count": 76,
   "metadata": {},
   "outputs": [],
   "source": [
    "import os\n",
    "from langchain_core.runnables import RunnablePassthrough\n",
    "from langchain_openai import ChatOpenAI, OpenAIEmbeddings\n",
    "from langchain_text_splitters import MarkdownHeaderTextSplitter\n",
    "from langchain_chroma import Chroma\n",
    "from langchain_community.document_loaders import DirectoryLoader, TextLoader\n",
    "\n",
    "from src.fs import read_text_dir"
   ]
  },
  {
   "cell_type": "markdown",
   "metadata": {},
   "source": [
    "## Read ACR Conditions"
   ]
  },
  {
   "cell_type": "code",
   "execution_count": 35,
   "metadata": {},
   "outputs": [],
   "source": [
    "docs_raw = read_text_dir(\"data/conditions\")\n",
    "docs_text = \"\\n\\n---\\n\\n\".join(docs_raw.values())\n"
   ]
  },
  {
   "cell_type": "markdown",
   "metadata": {},
   "source": [
    "## Indexing"
   ]
  },
  {
   "cell_type": "markdown",
   "metadata": {},
   "source": [
    "### Load ACR Data"
   ]
  },
  {
   "cell_type": "code",
   "execution_count": 4,
   "metadata": {},
   "outputs": [
    {
     "data": {
      "text/plain": [
       "[Document(metadata={'source': 'data/conditions/Mesenteric_Ischemia.md'}, page_content='# Imaging of Mesenteric Ischemia  \\n\\nAmerican College of Radiology: ACR Appropriateness Criteria®  \\n\\n### Variant 1: **Suspected acute mesenteric ischemia. Initial imaging.**\\n\\n| Procedure                                  | Appropriateness Category       | Relative Radiation Level |\\n|--------------------------------------------|--------------------------------|--------------------------|\\n| CTA abdomen and pelvis with IV contrast    | Usually Appropriate            | ⚫⚫⚫⚫                  |\\n| CT abdomen and pelvis with IV contrast     | May Be Appropriate             | ⚫⚫⚫                    |\\n| Arteriography abdomen                      | May Be Appropriate (Disagreement) | ⚫⚫⚫               |\\n| MRA abdomen and pelvis without and with IV contrast | May Be Appropriate (Disagreement) | O               |\\n| Radiography abdomen                        | May Be Appropriate             | ⚫⚫                     |\\n| US duplex Doppler abdomen                  | May Be Appropriate             | O                        |\\n| CT abdomen and pelvis without and with IV contrast | Usually Not Appropriate      | ⚫⚫⚫⚫                  |\\n| CT abdomen and pelvis without IV contrast  | Usually Not Appropriate        | ⚫⚫⚫                    |\\n| MRA abdomen and pelvis without IV contrast | Usually Not Appropriate        | O                        |\\n\\n---\\n\\n### Variant 2: **Suspected chronic mesenteric ischemia. Initial imaging.**\\n\\n| Procedure                                  | Appropriateness Category       | Relative Radiation Level |\\n|--------------------------------------------|--------------------------------|--------------------------|\\n| CTA abdomen and pelvis with IV contrast    | Usually Appropriate            | ⚫⚫⚫⚫                  |\\n| MRA abdomen and pelvis without and with IV contrast | Usually Appropriate         | O                        |\\n| Arteriography abdomen                      | May Be Appropriate (Disagreement) | ⚫⚫⚫               |\\n| CT abdomen and pelvis with IV contrast     | May Be Appropriate             | ⚫⚫⚫                    |\\n| MRA abdomen and pelvis without IV contrast | May Be Appropriate             | O                        |\\n| US duplex Doppler abdomen                  | May Be Appropriate             | O                        |\\n| CT abdomen and pelvis without IV contrast  | Usually Not Appropriate        | ⚫⚫⚫                    |\\n| CT abdomen and pelvis without and with IV contrast | Usually Not Appropriate      | ⚫⚫⚫⚫                  |\\n| Radiography abdomen                        | Usually Not Appropriate        | ⚫⚫                     |'),\n",
       " Document(metadata={'source': 'data/conditions/RLQ_Pain.md'}, page_content='# Right Lower Quadrant Pain  \\n\\nAmerican College of Radiology: ACR Appropriateness Criteria®\\n\\n### Variant 1: **Right lower quadrant pain. Initial imaging.**\\n\\n| Procedure                                  | Appropriateness Category       | Relative Radiation Level |\\n|--------------------------------------------|--------------------------------|--------------------------|\\n| CT abdomen and pelvis with IV contrast     | Usually Appropriate            | ⚫⚫⚫                    |\\n| US abdomen                                 | May Be Appropriate             | O                        |\\n| US pelvis                                  | May Be Appropriate             | O                        |\\n| MRI abdomen and pelvis without and with IV contrast | May Be Appropriate         | O                        |\\n| MRI abdomen and pelvis without IV contrast | May Be Appropriate             | O                        |\\n| CT abdomen and pelvis without IV contrast  | May Be Appropriate             | ⚫⚫⚫                    |\\n| Radiography abdomen                        | Usually Not Appropriate        | ⚫⚫                     |\\n| Fluoroscopy contrast enema                 | Usually Not Appropriate        | ⚫⚫⚫                    |\\n| CT abdomen and pelvis without and with IV contrast | Usually Not Appropriate      | ⚫⚫⚫⚫                  |\\n| WBC scan abdomen and pelvis                | Usually Not Appropriate        | ⚫⚫⚫⚫⚫                |\\n\\n---\\n\\n### Variant 2: **Right lower quadrant pain, fever, leukocytosis. Suspected appendicitis. Initial imaging.**\\n\\n| Procedure                                  | Appropriateness Category       | Relative Radiation Level |\\n|--------------------------------------------|--------------------------------|--------------------------|\\n| CT abdomen and pelvis with IV contrast     | Usually Appropriate            | ⚫⚫⚫                    |\\n| CT abdomen and pelvis without IV contrast  | May Be Appropriate             | ⚫⚫⚫                    |\\n| US abdomen                                 | May Be Appropriate             | O                        |\\n| US pelvis                                  | May Be Appropriate             | O                        |\\n| MRI abdomen and pelvis without and with IV contrast | May Be Appropriate         | O                        |\\n| MRI abdomen and pelvis without IV contrast | May Be Appropriate             | O                        |\\n| CT abdomen and pelvis without and with IV contrast | Usually Not Appropriate      | ⚫⚫⚫⚫                  |\\n| Radiography abdomen                        | Usually Not Appropriate        | ⚫⚫                     |\\n| WBC scan abdomen and pelvis                | Usually Not Appropriate        | ⚫⚫⚫⚫⚫                |\\n| Fluoroscopy contrast enema                 | Usually Not Appropriate        | ⚫⚫⚫                    |\\n\\n\\n### Variant 3: **Pregnant woman. Right lower quadrant pain, fever, leukocytosis. Suspected appendicitis. Initial imaging.**\\n\\n| Procedure                                  | Appropriateness Category       | Relative Radiation Level |\\n|--------------------------------------------|--------------------------------|--------------------------|\\n| US abdomen                                 | Usually Appropriate            | O                        |\\n| MRI abdomen and pelvis without IV contrast | Usually Appropriate            | O                        |\\n| US pelvis                                  | May Be Appropriate             | O                        |\\n| CT abdomen and pelvis with IV contrast     | May Be Appropriate             | ⚫⚫⚫⚫                  |\\n| CT abdomen and pelvis without IV contrast  | May Be Appropriate             | ⚫⚫⚫                    |\\n| CT abdomen and pelvis without and with IV contrast | Usually Not Appropriate      | ⚫⚫⚫⚫                  |\\n| MRI abdomen and pelvis without and with IV contrast | Usually Not Appropriate      | O                        |\\n| WBC scan abdomen and pelvis                | Usually Not Appropriate        | ⚫⚫⚫⚫⚫                |\\n| Radiography abdomen                        | Usually Not Appropriate        | ⚫⚫                     |\\n| Fluoroscopy contrast enema                 | Usually Not Appropriate        | ⚫⚫⚫                    |'),\n",
       " Document(metadata={'source': 'data/conditions/Abnormal_LFT.md'}, page_content='# Abnormal Liver Function Tests  \\n\\nAmerican College of Radiology: ACR Appropriateness Criteria®  \\n\\n### Variant 1: **Abnormal liver function tests. Hepatocellular predominance with mild aminotransferase increase. Initial imaging.**\\n\\n| Procedure                                  | Appropriateness Category       | Relative Radiation Level |\\n|--------------------------------------------|--------------------------------|--------------------------|\\n| US abdomen                                 | Usually Appropriate            | O                        |\\n| US duplex Doppler abdomen                  | Usually Appropriate            | O                        |\\n| US shear wave elastography abdomen         | May Be Appropriate             | O                        |\\n| MR elastography abdomen                    | May Be Appropriate             | O                        |\\n| MRI abdomen without and with IV contrast with MRCP | May Be Appropriate         | O                        |\\n| MRI abdomen without IV contrast with MRCP  | May Be Appropriate             | O                        |\\n| CT abdomen and pelvis without IV contrast  | May Be Appropriate             | ⚫⚫⚫                    |\\n| US abdomen with IV contrast                | Usually Not Appropriate        | O                        |\\n| CT abdomen and pelvis with IV contrast     | Usually Not Appropriate        | ⚫⚫⚫                    |\\n| CT abdomen and pelvis without and with IV contrast | Usually Not Appropriate | ⚫⚫⚫⚫                  |\\n\\n---\\n\\n### Variant 2: **Abnormal liver function tests. Hepatocellular predominance with moderate or severe aminotransferase increase. Initial imaging.**\\n\\n| Procedure                                  | Appropriateness Category       | Relative Radiation Level |\\n|--------------------------------------------|--------------------------------|--------------------------|\\n| US abdomen                                 | Usually Appropriate            | O                        |\\n| US duplex Doppler abdomen                  | Usually Appropriate            | O                        |\\n| CT abdomen and pelvis with IV contrast     | Usually Appropriate            | ⚫⚫⚫                    |\\n| MRI abdomen without and with IV contrast with MRCP | May Be Appropriate         | O                        |\\n| MRI abdomen without IV contrast with MRCP  | May Be Appropriate             | O                        |\\n| CT abdomen and pelvis without IV contrast  | May Be Appropriate             | ⚫⚫⚫                    |\\n| US abdomen with IV contrast                | Usually Not Appropriate        | O                        |\\n| US shear wave elastography abdomen         | Usually Not Appropriate        | O                        |\\n| MR elastography abdomen                    | Usually Not Appropriate        | O                        |\\n| CT abdomen and pelvis without and with IV contrast | Usually Not Appropriate | ⚫⚫⚫⚫                  |\\n\\n\\n### Variant 3: **Abnormal liver function tests. Cholestatic predominance. Elevated alkaline phosphatase with or without elevated gamma-glutamyl transpeptidase. Initial imaging.**\\n\\n| Procedure                                  | Appropriateness Category       | Relative Radiation Level |\\n|--------------------------------------------|--------------------------------|--------------------------|\\n| US abdomen                                 | Usually Appropriate            | O                        |\\n| MRI abdomen without and with IV contrast with MRCP | Usually Appropriate         | O                        |\\n| CT abdomen and pelvis with IV contrast     | Usually Appropriate            | ⚫⚫⚫                    |\\n| US duplex Doppler abdomen                  | May Be Appropriate             | O                        |\\n| MRI abdomen without IV contrast with MRCP  | May Be Appropriate             | O                        |\\n| CT abdomen and pelvis without IV contrast  | May Be Appropriate             | ⚫⚫⚫                    |\\n| US abdomen with IV contrast                | Usually Not Appropriate        | O                        |\\n| US shear wave elastography abdomen         | Usually Not Appropriate        | O                        |\\n| MR elastography abdomen                    | Usually Not Appropriate        | O                        |\\n| CT abdomen and pelvis without and with IV contrast | Usually Not Appropriate | ⚫⚫⚫⚫                  |\\n\\n---\\n\\n### Variant 4: **Abnormal liver function tests. Hyperbilirubinemia. Acute or subacute cholestasis. Conjugated or unconjugated. Initial imaging.**\\n\\n| Procedure                                  | Appropriateness Category       | Relative Radiation Level |\\n|--------------------------------------------|--------------------------------|--------------------------|\\n| US abdomen                                 | Usually Appropriate            | O                        |\\n| MRI abdomen without and with IV contrast with MRCP | Usually Appropriate         | O                        |\\n| MRI abdomen without IV contrast with MRCP  | Usually Appropriate             | O                        |\\n| CT abdomen and pelvis with IV contrast     | Usually Appropriate            | ⚫⚫⚫                    |\\n| CT abdomen and pelvis without IV contrast  | May Be Appropriate             | ⚫⚫⚫                    |\\n| US abdomen with IV contrast                | Usually Not Appropriate        | O                        |\\n| US duplex Doppler abdomen                  | Usually Not Appropriate        | O                        |\\n| US shear wave elastography abdomen         | Usually Not Appropriate        | O                        |\\n| MR elastography abdomen                    | Usually Not Appropriate        | O                        |\\n| CT abdomen and pelvis without and with IV contrast | Usually Not Appropriate | ⚫⚫⚫⚫                  |')]"
      ]
     },
     "execution_count": 4,
     "metadata": {},
     "output_type": "execute_result"
    }
   ],
   "source": [
    "loader = DirectoryLoader(\"data/conditions\", glob=\"**/*.md\", loader_cls=TextLoader)\n",
    "docs = loader.load()\n",
    "docs"
   ]
  },
  {
   "cell_type": "code",
   "execution_count": 17,
   "metadata": {},
   "outputs": [
    {
     "data": {
      "text/plain": [
       "'# Imaging of Mesenteric Ischemia  \\n\\nAmerican College of Radiology: ACR Appropriateness Criteria®  \\n\\n### Variant 1: **Suspected acute mesenteric ischemia. Initial imaging.**\\n\\n| Procedure                                  | Appropriateness Category       | Relative Radiation Level |\\n|--------------------------------------------|--------------------------------|--------------------------|\\n| CTA abdomen and pelvis with IV contrast    | Usually Appropriate            | ⚫⚫⚫⚫                  |\\n| CT abdomen and pelvis with IV contrast     | May Be Appropriate             | ⚫⚫⚫                    |\\n| Arteriography abdomen                      | May Be Appropriate (Disagreement) | ⚫⚫⚫               |\\n| MRA abdomen and pelvis without and with IV contrast | May Be Appropriate (Disagreement) | O               |\\n| Radiography abdomen                        | May Be Appropriate             | ⚫⚫                     |\\n| US duplex Doppler abdomen                  | May Be Appropriate             | O                        |\\n| CT abdomen and pelvis without and with IV contrast | Usually Not Appropriate      | ⚫⚫⚫⚫                  |\\n| CT abdomen and pelvis without IV contrast  | Usually Not Appropriate        | ⚫⚫⚫                    |\\n| MRA abdomen and pelvis without IV contrast | Usually Not Appropriate        | O                        |\\n\\n---\\n\\n### Variant 2: **Suspected chronic mesenteric ischemia. Initial imaging.**\\n\\n| Procedure                                  | Appropriateness Category       | Relative Radiation Level |\\n|--------------------------------------------|--------------------------------|--------------------------|\\n| CTA abdomen and pelvis with IV contrast    | Usually Appropriate            | ⚫⚫⚫⚫                  |\\n| MRA abdomen and pelvis without and with IV contrast | Usually Appropriate         | O                        |\\n| Arteriography abdomen                      | May Be Appropriate (Disagreement) | ⚫⚫⚫               |\\n| CT abdomen and pelvis with IV contrast     | May Be Appropriate             | ⚫⚫⚫                    |\\n| MRA abdomen and pelvis without IV contrast | May Be Appropriate             | O                        |\\n| US duplex Doppler abdomen                  | May Be Appropriate             | O                        |\\n| CT abdomen and pelvis without IV contrast  | Usually Not Appropriate        | ⚫⚫⚫                    |\\n| CT abdomen and pelvis without and with IV contrast | Usually Not Appropriate      | ⚫⚫⚫⚫                  |\\n| Radiography abdomen                        | Usually Not Appropriate        | ⚫⚫                     |'"
      ]
     },
     "execution_count": 17,
     "metadata": {},
     "output_type": "execute_result"
    }
   ],
   "source": [
    "docs[0].page_content"
   ]
  },
  {
   "cell_type": "markdown",
   "metadata": {},
   "source": [
    "### Split Documents\n",
    "\n",
    "Split by markdown headings"
   ]
  },
  {
   "cell_type": "code",
   "execution_count": 53,
   "metadata": {},
   "outputs": [],
   "source": [
    "# Determine levels of headings to be splitted\n",
    "headers_to_split_on = [\n",
    "    (\"#\", \"Header 1\"),\n",
    "    # (\"##\", \"Header 2\"),\n",
    "    # (\"###\", \"Header 3\"),\n",
    "]\n",
    "markdown_splitter = MarkdownHeaderTextSplitter(headers_to_split_on, \n",
    "                                               strip_headers = False)\n",
    "docs_splited = markdown_splitter.split_text(docs_text)\n",
    "# docs_splited = [markdown_splitter.split_text(doc.page_content) for doc in docs]"
   ]
  },
  {
   "cell_type": "code",
   "execution_count": 54,
   "metadata": {},
   "outputs": [
    {
     "data": {
      "text/plain": [
       "[Document(metadata={'Header 1': 'Abnormal Liver Function Tests'}, page_content='# Abnormal Liver Function Tests  \\nAmerican College of Radiology: ACR Appropriateness Criteria®  \\n### Variant 1: **Abnormal liver function tests. Hepatocellular predominance with mild aminotransferase increase. Initial imaging.**  \\n| Procedure                                  | Appropriateness Category       | Relative Radiation Level |\\n|--------------------------------------------|--------------------------------|--------------------------|\\n| US abdomen                                 | Usually Appropriate            | O                        |\\n| US duplex Doppler abdomen                  | Usually Appropriate            | O                        |\\n| US shear wave elastography abdomen         | May Be Appropriate             | O                        |\\n| MR elastography abdomen                    | May Be Appropriate             | O                        |\\n| MRI abdomen without and with IV contrast with MRCP | May Be Appropriate         | O                        |\\n| MRI abdomen without IV contrast with MRCP  | May Be Appropriate             | O                        |\\n| CT abdomen and pelvis without IV contrast  | May Be Appropriate             | ⚫⚫⚫                    |\\n| US abdomen with IV contrast                | Usually Not Appropriate        | O                        |\\n| CT abdomen and pelvis with IV contrast     | Usually Not Appropriate        | ⚫⚫⚫                    |\\n| CT abdomen and pelvis without and with IV contrast | Usually Not Appropriate | ⚫⚫⚫⚫                  |  \\n---  \\n### Variant 2: **Abnormal liver function tests. Hepatocellular predominance with moderate or severe aminotransferase increase. Initial imaging.**  \\n| Procedure                                  | Appropriateness Category       | Relative Radiation Level |\\n|--------------------------------------------|--------------------------------|--------------------------|\\n| US abdomen                                 | Usually Appropriate            | O                        |\\n| US duplex Doppler abdomen                  | Usually Appropriate            | O                        |\\n| CT abdomen and pelvis with IV contrast     | Usually Appropriate            | ⚫⚫⚫                    |\\n| MRI abdomen without and with IV contrast with MRCP | May Be Appropriate         | O                        |\\n| MRI abdomen without IV contrast with MRCP  | May Be Appropriate             | O                        |\\n| CT abdomen and pelvis without IV contrast  | May Be Appropriate             | ⚫⚫⚫                    |\\n| US abdomen with IV contrast                | Usually Not Appropriate        | O                        |\\n| US shear wave elastography abdomen         | Usually Not Appropriate        | O                        |\\n| MR elastography abdomen                    | Usually Not Appropriate        | O                        |\\n| CT abdomen and pelvis without and with IV contrast | Usually Not Appropriate | ⚫⚫⚫⚫                  |  \\n### Variant 3: **Abnormal liver function tests. Cholestatic predominance. Elevated alkaline phosphatase with or without elevated gamma-glutamyl transpeptidase. Initial imaging.**  \\n| Procedure                                  | Appropriateness Category       | Relative Radiation Level |\\n|--------------------------------------------|--------------------------------|--------------------------|\\n| US abdomen                                 | Usually Appropriate            | O                        |\\n| MRI abdomen without and with IV contrast with MRCP | Usually Appropriate         | O                        |\\n| CT abdomen and pelvis with IV contrast     | Usually Appropriate            | ⚫⚫⚫                    |\\n| US duplex Doppler abdomen                  | May Be Appropriate             | O                        |\\n| MRI abdomen without IV contrast with MRCP  | May Be Appropriate             | O                        |\\n| CT abdomen and pelvis without IV contrast  | May Be Appropriate             | ⚫⚫⚫                    |\\n| US abdomen with IV contrast                | Usually Not Appropriate        | O                        |\\n| US shear wave elastography abdomen         | Usually Not Appropriate        | O                        |\\n| MR elastography abdomen                    | Usually Not Appropriate        | O                        |\\n| CT abdomen and pelvis without and with IV contrast | Usually Not Appropriate | ⚫⚫⚫⚫                  |  \\n---  \\n### Variant 4: **Abnormal liver function tests. Hyperbilirubinemia. Acute or subacute cholestasis. Conjugated or unconjugated. Initial imaging.**  \\n| Procedure                                  | Appropriateness Category       | Relative Radiation Level |\\n|--------------------------------------------|--------------------------------|--------------------------|\\n| US abdomen                                 | Usually Appropriate            | O                        |\\n| MRI abdomen without and with IV contrast with MRCP | Usually Appropriate         | O                        |\\n| MRI abdomen without IV contrast with MRCP  | Usually Appropriate             | O                        |\\n| CT abdomen and pelvis with IV contrast     | Usually Appropriate            | ⚫⚫⚫                    |\\n| CT abdomen and pelvis without IV contrast  | May Be Appropriate             | ⚫⚫⚫                    |\\n| US abdomen with IV contrast                | Usually Not Appropriate        | O                        |\\n| US duplex Doppler abdomen                  | Usually Not Appropriate        | O                        |\\n| US shear wave elastography abdomen         | Usually Not Appropriate        | O                        |\\n| MR elastography abdomen                    | Usually Not Appropriate        | O                        |\\n| CT abdomen and pelvis without and with IV contrast | Usually Not Appropriate | ⚫⚫⚫⚫                  |  \\n---'),\n",
       " Document(metadata={'Header 1': 'Imaging of Mesenteric Ischemia'}, page_content='# Imaging of Mesenteric Ischemia  \\nAmerican College of Radiology: ACR Appropriateness Criteria®  \\n### Variant 1: **Suspected acute mesenteric ischemia. Initial imaging.**  \\n| Procedure                                  | Appropriateness Category       | Relative Radiation Level |\\n|--------------------------------------------|--------------------------------|--------------------------|\\n| CTA abdomen and pelvis with IV contrast    | Usually Appropriate            | ⚫⚫⚫⚫                  |\\n| CT abdomen and pelvis with IV contrast     | May Be Appropriate             | ⚫⚫⚫                    |\\n| Arteriography abdomen                      | May Be Appropriate (Disagreement) | ⚫⚫⚫               |\\n| MRA abdomen and pelvis without and with IV contrast | May Be Appropriate (Disagreement) | O               |\\n| Radiography abdomen                        | May Be Appropriate             | ⚫⚫                     |\\n| US duplex Doppler abdomen                  | May Be Appropriate             | O                        |\\n| CT abdomen and pelvis without and with IV contrast | Usually Not Appropriate      | ⚫⚫⚫⚫                  |\\n| CT abdomen and pelvis without IV contrast  | Usually Not Appropriate        | ⚫⚫⚫                    |\\n| MRA abdomen and pelvis without IV contrast | Usually Not Appropriate        | O                        |  \\n---  \\n### Variant 2: **Suspected chronic mesenteric ischemia. Initial imaging.**  \\n| Procedure                                  | Appropriateness Category       | Relative Radiation Level |\\n|--------------------------------------------|--------------------------------|--------------------------|\\n| CTA abdomen and pelvis with IV contrast    | Usually Appropriate            | ⚫⚫⚫⚫                  |\\n| MRA abdomen and pelvis without and with IV contrast | Usually Appropriate         | O                        |\\n| Arteriography abdomen                      | May Be Appropriate (Disagreement) | ⚫⚫⚫               |\\n| CT abdomen and pelvis with IV contrast     | May Be Appropriate             | ⚫⚫⚫                    |\\n| MRA abdomen and pelvis without IV contrast | May Be Appropriate             | O                        |\\n| US duplex Doppler abdomen                  | May Be Appropriate             | O                        |\\n| CT abdomen and pelvis without IV contrast  | Usually Not Appropriate        | ⚫⚫⚫                    |\\n| CT abdomen and pelvis without and with IV contrast | Usually Not Appropriate      | ⚫⚫⚫⚫                  |\\n| Radiography abdomen                        | Usually Not Appropriate        | ⚫⚫                     |  \\n---'),\n",
       " Document(metadata={'Header 1': 'Right Lower Quadrant Pain'}, page_content='# Right Lower Quadrant Pain  \\nAmerican College of Radiology: ACR Appropriateness Criteria®  \\n### Variant 1: **Right lower quadrant pain. Initial imaging.**  \\n| Procedure                                  | Appropriateness Category       | Relative Radiation Level |\\n|--------------------------------------------|--------------------------------|--------------------------|\\n| CT abdomen and pelvis with IV contrast     | Usually Appropriate            | ⚫⚫⚫                    |\\n| US abdomen                                 | May Be Appropriate             | O                        |\\n| US pelvis                                  | May Be Appropriate             | O                        |\\n| MRI abdomen and pelvis without and with IV contrast | May Be Appropriate         | O                        |\\n| MRI abdomen and pelvis without IV contrast | May Be Appropriate             | O                        |\\n| CT abdomen and pelvis without IV contrast  | May Be Appropriate             | ⚫⚫⚫                    |\\n| Radiography abdomen                        | Usually Not Appropriate        | ⚫⚫                     |\\n| Fluoroscopy contrast enema                 | Usually Not Appropriate        | ⚫⚫⚫                    |\\n| CT abdomen and pelvis without and with IV contrast | Usually Not Appropriate      | ⚫⚫⚫⚫                  |\\n| WBC scan abdomen and pelvis                | Usually Not Appropriate        | ⚫⚫⚫⚫⚫                |  \\n---  \\n### Variant 2: **Right lower quadrant pain, fever, leukocytosis. Suspected appendicitis. Initial imaging.**  \\n| Procedure                                  | Appropriateness Category       | Relative Radiation Level |\\n|--------------------------------------------|--------------------------------|--------------------------|\\n| CT abdomen and pelvis with IV contrast     | Usually Appropriate            | ⚫⚫⚫                    |\\n| CT abdomen and pelvis without IV contrast  | May Be Appropriate             | ⚫⚫⚫                    |\\n| US abdomen                                 | May Be Appropriate             | O                        |\\n| US pelvis                                  | May Be Appropriate             | O                        |\\n| MRI abdomen and pelvis without and with IV contrast | May Be Appropriate         | O                        |\\n| MRI abdomen and pelvis without IV contrast | May Be Appropriate             | O                        |\\n| CT abdomen and pelvis without and with IV contrast | Usually Not Appropriate      | ⚫⚫⚫⚫                  |\\n| Radiography abdomen                        | Usually Not Appropriate        | ⚫⚫                     |\\n| WBC scan abdomen and pelvis                | Usually Not Appropriate        | ⚫⚫⚫⚫⚫                |\\n| Fluoroscopy contrast enema                 | Usually Not Appropriate        | ⚫⚫⚫                    |  \\n### Variant 3: **Pregnant woman. Right lower quadrant pain, fever, leukocytosis. Suspected appendicitis. Initial imaging.**  \\n| Procedure                                  | Appropriateness Category       | Relative Radiation Level |\\n|--------------------------------------------|--------------------------------|--------------------------|\\n| US abdomen                                 | Usually Appropriate            | O                        |\\n| MRI abdomen and pelvis without IV contrast | Usually Appropriate            | O                        |\\n| US pelvis                                  | May Be Appropriate             | O                        |\\n| CT abdomen and pelvis with IV contrast     | May Be Appropriate             | ⚫⚫⚫⚫                  |\\n| CT abdomen and pelvis without IV contrast  | May Be Appropriate             | ⚫⚫⚫                    |\\n| CT abdomen and pelvis without and with IV contrast | Usually Not Appropriate      | ⚫⚫⚫⚫                  |\\n| MRI abdomen and pelvis without and with IV contrast | Usually Not Appropriate      | O                        |\\n| WBC scan abdomen and pelvis                | Usually Not Appropriate        | ⚫⚫⚫⚫⚫                |\\n| Radiography abdomen                        | Usually Not Appropriate        | ⚫⚫                     |\\n| Fluoroscopy contrast enema                 | Usually Not Appropriate        | ⚫⚫⚫                    |')]"
      ]
     },
     "execution_count": 54,
     "metadata": {},
     "output_type": "execute_result"
    }
   ],
   "source": [
    "docs_splited"
   ]
  },
  {
   "cell_type": "markdown",
   "metadata": {},
   "source": [
    "### Create Vector Store & Retriever"
   ]
  },
  {
   "cell_type": "code",
   "execution_count": null,
   "metadata": {},
   "outputs": [],
   "source": [
    "db = Chroma.from_documents(docs_splited, OpenAIEmbeddings(), persist_directory=\"db\")"
   ]
  },
  {
   "cell_type": "markdown",
   "metadata": {},
   "source": [
    "Test Similarity search"
   ]
  },
  {
   "cell_type": "code",
   "execution_count": 60,
   "metadata": {},
   "outputs": [
    {
     "name": "stdout",
     "output_type": "stream",
     "text": [
      "[Document(metadata={'Header 1': 'Abnormal Liver Function Tests', 'Header 3': 'Variant 3: **Abnormal liver function tests. Cholestatic predominance. Elevated alkaline phosphatase with or without elevated gamma-glutamyl transpeptidase. Initial imaging.**'}, page_content='### Variant 3: **Abnormal liver function tests. Cholestatic predominance. Elevated alkaline phosphatase with or without elevated gamma-glutamyl transpeptidase. Initial imaging.**  \\n| Procedure                                  | Appropriateness Category       | Relative Radiation Level |\\n|--------------------------------------------|--------------------------------|--------------------------|\\n| US abdomen                                 | Usually Appropriate            | O                        |\\n| MRI abdomen without and with IV contrast with MRCP | Usually Appropriate         | O                        |\\n| CT abdomen and pelvis with IV contrast     | Usually Appropriate            | ⚫⚫⚫                    |\\n| US duplex Doppler abdomen                  | May Be Appropriate             | O                        |\\n| MRI abdomen without IV contrast with MRCP  | May Be Appropriate             | O                        |\\n| CT abdomen and pelvis without IV contrast  | May Be Appropriate             | ⚫⚫⚫                    |\\n| US abdomen with IV contrast                | Usually Not Appropriate        | O                        |\\n| US shear wave elastography abdomen         | Usually Not Appropriate        | O                        |\\n| MR elastography abdomen                    | Usually Not Appropriate        | O                        |\\n| CT abdomen and pelvis without and with IV contrast | Usually Not Appropriate | ⚫⚫⚫⚫                  |  \\n---'), Document(metadata={'Header 1': 'Abnormal Liver Function Tests'}, page_content='# Abnormal Liver Function Tests  \\nAmerican College of Radiology: ACR Appropriateness Criteria®  \\n### Variant 1: **Abnormal liver function tests. Hepatocellular predominance with mild aminotransferase increase. Initial imaging.**  \\n| Procedure                                  | Appropriateness Category       | Relative Radiation Level |\\n|--------------------------------------------|--------------------------------|--------------------------|\\n| US abdomen                                 | Usually Appropriate            | O                        |\\n| US duplex Doppler abdomen                  | Usually Appropriate            | O                        |\\n| US shear wave elastography abdomen         | May Be Appropriate             | O                        |\\n| MR elastography abdomen                    | May Be Appropriate             | O                        |\\n| MRI abdomen without and with IV contrast with MRCP | May Be Appropriate         | O                        |\\n| MRI abdomen without IV contrast with MRCP  | May Be Appropriate             | O                        |\\n| CT abdomen and pelvis without IV contrast  | May Be Appropriate             | ⚫⚫⚫                    |\\n| US abdomen with IV contrast                | Usually Not Appropriate        | O                        |\\n| CT abdomen and pelvis with IV contrast     | Usually Not Appropriate        | ⚫⚫⚫                    |\\n| CT abdomen and pelvis without and with IV contrast | Usually Not Appropriate | ⚫⚫⚫⚫                  |  \\n---  \\n### Variant 2: **Abnormal liver function tests. Hepatocellular predominance with moderate or severe aminotransferase increase. Initial imaging.**  \\n| Procedure                                  | Appropriateness Category       | Relative Radiation Level |\\n|--------------------------------------------|--------------------------------|--------------------------|\\n| US abdomen                                 | Usually Appropriate            | O                        |\\n| US duplex Doppler abdomen                  | Usually Appropriate            | O                        |\\n| CT abdomen and pelvis with IV contrast     | Usually Appropriate            | ⚫⚫⚫                    |\\n| MRI abdomen without and with IV contrast with MRCP | May Be Appropriate         | O                        |\\n| MRI abdomen without IV contrast with MRCP  | May Be Appropriate             | O                        |\\n| CT abdomen and pelvis without IV contrast  | May Be Appropriate             | ⚫⚫⚫                    |\\n| US abdomen with IV contrast                | Usually Not Appropriate        | O                        |\\n| US shear wave elastography abdomen         | Usually Not Appropriate        | O                        |\\n| MR elastography abdomen                    | Usually Not Appropriate        | O                        |\\n| CT abdomen and pelvis without and with IV contrast | Usually Not Appropriate | ⚫⚫⚫⚫                  |  \\n### Variant 3: **Abnormal liver function tests. Cholestatic predominance. Elevated alkaline phosphatase with or without elevated gamma-glutamyl transpeptidase. Initial imaging.**  \\n| Procedure                                  | Appropriateness Category       | Relative Radiation Level |\\n|--------------------------------------------|--------------------------------|--------------------------|\\n| US abdomen                                 | Usually Appropriate            | O                        |\\n| MRI abdomen without and with IV contrast with MRCP | Usually Appropriate         | O                        |\\n| CT abdomen and pelvis with IV contrast     | Usually Appropriate            | ⚫⚫⚫                    |\\n| US duplex Doppler abdomen                  | May Be Appropriate             | O                        |\\n| MRI abdomen without IV contrast with MRCP  | May Be Appropriate             | O                        |\\n| CT abdomen and pelvis without IV contrast  | May Be Appropriate             | ⚫⚫⚫                    |\\n| US abdomen with IV contrast                | Usually Not Appropriate        | O                        |\\n| US shear wave elastography abdomen         | Usually Not Appropriate        | O                        |\\n| MR elastography abdomen                    | Usually Not Appropriate        | O                        |\\n| CT abdomen and pelvis without and with IV contrast | Usually Not Appropriate | ⚫⚫⚫⚫                  |  \\n---  \\n### Variant 4: **Abnormal liver function tests. Hyperbilirubinemia. Acute or subacute cholestasis. Conjugated or unconjugated. Initial imaging.**  \\n| Procedure                                  | Appropriateness Category       | Relative Radiation Level |\\n|--------------------------------------------|--------------------------------|--------------------------|\\n| US abdomen                                 | Usually Appropriate            | O                        |\\n| MRI abdomen without and with IV contrast with MRCP | Usually Appropriate         | O                        |\\n| MRI abdomen without IV contrast with MRCP  | Usually Appropriate             | O                        |\\n| CT abdomen and pelvis with IV contrast     | Usually Appropriate            | ⚫⚫⚫                    |\\n| CT abdomen and pelvis without IV contrast  | May Be Appropriate             | ⚫⚫⚫                    |\\n| US abdomen with IV contrast                | Usually Not Appropriate        | O                        |\\n| US duplex Doppler abdomen                  | Usually Not Appropriate        | O                        |\\n| US shear wave elastography abdomen         | Usually Not Appropriate        | O                        |\\n| MR elastography abdomen                    | Usually Not Appropriate        | O                        |\\n| CT abdomen and pelvis without and with IV contrast | Usually Not Appropriate | ⚫⚫⚫⚫                  |  \\n---')]\n"
     ]
    }
   ],
   "source": [
    "query = \"Abnormal LFT\"\n",
    "docs = db.similarity_search(query, k = 2)\n",
    "print(docs)"
   ]
  },
  {
   "cell_type": "code",
   "execution_count": 75,
   "metadata": {},
   "outputs": [],
   "source": [
    "retriever = db.as_retriever(\n",
    "    search_type=\"similarity\",\n",
    "    search_kwargs={\"k\": 2},\n",
    ")"
   ]
  },
  {
   "cell_type": "markdown",
   "metadata": {},
   "source": [
    "## Prompt Template"
   ]
  },
  {
   "cell_type": "code",
   "execution_count": 95,
   "metadata": {},
   "outputs": [
    {
     "name": "stdout",
     "output_type": "stream",
     "text": [
      "System: You are an clinical decision support assistance for radiologist. \n",
      "Your task is to determine the imaging appropriateness from the input patient case, according to the provided context from ACR Appropriateness Criteria.\n",
      "\n",
      "Human: \n",
      "Case: \n",
      "\n",
      "Test Case\n",
      "\n",
      "Context: \n",
      "Use the provided context only to answer the question. If you don't know the answer, just say that you don't know.\n",
      "\n",
      "test context\n",
      "\n",
      "Questions: Is imaging typically appropriate for this case? If so, please specify the most suitable imaging modality and whether a contrast agent is required. Exclude 'May Be Appropriate' and 'Usually Not Appropriate' as potential responses.\n",
      "\n"
     ]
    }
   ],
   "source": [
    "from langchain_core.prompts import ChatPromptTemplate, MessagesPlaceholder\n",
    "from langchain_core.messages import HumanMessage\n",
    "\n",
    "system_prompt = \"\"\"You are an clinical decision support assistance for radiologist. \n",
    "Your task is to determine the imaging appropriateness from the input patient case, according to the provided context from ACR Appropriateness Criteria.\n",
    "\"\"\"\n",
    "\n",
    "human_prompt = \"\"\"\n",
    "Case: \n",
    "\n",
    "{case}\n",
    "\n",
    "Context: \n",
    "Use the provided context only to answer the question. If you don't know the answer, just say that you don't know.\n",
    "\n",
    "{context}\n",
    "\n",
    "Questions: Is imaging typically appropriate for this case? If so, please specify the most suitable imaging modality and whether a contrast agent is required. Exclude 'May Be Appropriate' and 'Usually Not Appropriate' as potential responses.\n",
    "\"\"\"\n",
    "\n",
    "prompt_template = ChatPromptTemplate([\n",
    "    (\"system\", system_prompt),\n",
    "    (\"human\", human_prompt)\n",
    "])\n",
    "\n",
    "print(prompt_template.invoke({\"case\": \"Test Case\", \n",
    "                              \"context\": \"test context\"}).to_string())\n",
    "\n"
   ]
  },
  {
   "cell_type": "markdown",
   "metadata": {},
   "source": [
    "## Final Chain"
   ]
  },
  {
   "cell_type": "code",
   "execution_count": 92,
   "metadata": {},
   "outputs": [],
   "source": [
    "llm = ChatOpenAI(model=\"gpt-4o-mini\")\n",
    "rag_chain = {\"context\": retriever, \"case\": RunnablePassthrough()} | prompt_template | llm"
   ]
  },
  {
   "cell_type": "markdown",
   "metadata": {},
   "source": [
    "## Execute 🚀"
   ]
  },
  {
   "cell_type": "markdown",
   "metadata": {},
   "source": [
    "### RLQ Abdominal Pain"
   ]
  },
  {
   "cell_type": "code",
   "execution_count": 93,
   "metadata": {},
   "outputs": [
    {
     "name": "stdout",
     "output_type": "stream",
     "text": [
      "Yes, imaging is typically appropriate for this case. The most suitable imaging modality is a CT abdomen and pelvis with IV contrast, as this is categorized as \"Usually Appropriate\" for suspected appendicitis in a patient with right lower quadrant pain, fever, and leukocytosis.\n"
     ]
    }
   ],
   "source": [
    "case_1 = \"\"\"\n",
    "Patient age: 15 years old\n",
    "Sex: Female\n",
    "Chief Complaint: Right lower quadrant abdominal pain\n",
    "The patient presents with a 2-day history of progressively worsening right lower quadrant abdominal pain. She reports loss of appetite but denies nausea or vomiting. No fever or diarrhea. Her last menstrual period was 2 weeks ago. She denies any history of similar pain episodes and has no significant past medical history. On physical examination, she appears uncomfortable. Vital signs show temperature 37.8°C, heart rate 92/min, blood pressure 110/70 mmHg. Abdominal examination reveals tenderness in the right lower quadrant with voluntary guarding but no rebound tenderness. McBurney's point is tender on palpation. Laboratory results show mild leukocytosis (WBC 12,500/µL) with neutrophil predominance.\n",
    "\"\"\"\n",
    "\n",
    "response_1 = rag_chain.invoke(case_1)\n",
    "print(response_1.content)"
   ]
  },
  {
   "cell_type": "markdown",
   "metadata": {},
   "source": [
    "### Mesenteric Ischemia"
   ]
  },
  {
   "cell_type": "code",
   "execution_count": 97,
   "metadata": {},
   "outputs": [
    {
     "name": "stdout",
     "output_type": "stream",
     "text": [
      "Yes, imaging is typically appropriate for this case. The most suitable imaging modality is a CT abdomen and pelvis with IV contrast, as it is classified as \"Usually Appropriate\" for suspected acute mesenteric ischemia, which aligns with the patient's presentation of severe abdominal pain and vomiting, particularly given her history of peripheral vascular disease.\n"
     ]
    }
   ],
   "source": [
    "case_2 = \"\"\"\n",
    "Patient age: 72 years old\n",
    "Sex: Female\n",
    "Chief Complaint: Severe abdominal pain and vomiting\n",
    "The patient presents with sudden onset of severe, diffuse abdominal pain that started 6 hours ago, accompanied by multiple episodes of vomiting. She has a history of atrial fibrillation on warfarin, hypertension, and peripheral vascular disease. She reports the pain is out of proportion to physical examination findings. She also notes having similar but milder post-prandial abdominal pain and weight loss of 5 kg over the past 3 months, which made her eat less to avoid the pain. \n",
    "\"\"\"\n",
    "\n",
    "response_2 = rag_chain.invoke(case_2)\n",
    "print(response_2.content)"
   ]
  },
  {
   "cell_type": "markdown",
   "metadata": {},
   "source": [
    "### No Avilable Context"
   ]
  },
  {
   "cell_type": "code",
   "execution_count": 98,
   "metadata": {},
   "outputs": [
    {
     "name": "stdout",
     "output_type": "stream",
     "text": [
      "I don't know.\n"
     ]
    }
   ],
   "source": [
    "case_3 = \"\"\"\n",
    "Patient age: 30 years old \n",
    "Sex: Male. \n",
    "Chief complaint: Indeterminate palpable breast mass on the left side. \n",
    "\n",
    "A 2 cm hard mass is palpated in the left breast without nipple discharge or retraction, and no axillary lymphadenopathy. Mammography was indeterminant. There is no history of breast cancer in the family.\n",
    "\"\"\"\n",
    "\n",
    "response_3 = rag_chain.invoke(case_3)\n",
    "print(response_3.content)"
   ]
  }
 ],
 "metadata": {
  "kernelspec": {
   "display_name": "llm-env",
   "language": "python",
   "name": "python3"
  },
  "language_info": {
   "codemirror_mode": {
    "name": "ipython",
    "version": 3
   },
   "file_extension": ".py",
   "mimetype": "text/x-python",
   "name": "python",
   "nbconvert_exporter": "python",
   "pygments_lexer": "ipython3",
   "version": "3.12.2"
  }
 },
 "nbformat": 4,
 "nbformat_minor": 2
}
